{
 "cells": [
  {
   "cell_type": "markdown",
   "id": "a904fbcb-de36-4a01-be65-9aed3bb47002",
   "metadata": {},
   "source": [
    "# Data preparation\n",
    "\n",
    "The following code reads the data from the CSV files and prepares it for training. The data is split into training, testing, and validation sets. The training set is used to train the model, the validation set is used to tune the hyperparameters, and the testing set is used to evaluate the model."
   ]
  },
  {
   "cell_type": "code",
   "execution_count": 1,
   "id": "d5a13a94-237a-40bd-bfd5-fcba59d9225a",
   "metadata": {},
   "outputs": [
    {
     "data": {
      "text/html": [
       "<div>\n",
       "<style scoped>\n",
       "    .dataframe tbody tr th:only-of-type {\n",
       "        vertical-align: middle;\n",
       "    }\n",
       "\n",
       "    .dataframe tbody tr th {\n",
       "        vertical-align: top;\n",
       "    }\n",
       "\n",
       "    .dataframe thead th {\n",
       "        text-align: right;\n",
       "    }\n",
       "</style>\n",
       "<table border=\"1\" class=\"dataframe\">\n",
       "  <thead>\n",
       "    <tr style=\"text-align: right;\">\n",
       "      <th></th>\n",
       "      <th>image_id</th>\n",
       "      <th>hand</th>\n",
       "      <th>leg</th>\n",
       "      <th>hip</th>\n",
       "      <th>shoulder</th>\n",
       "      <th>mixed</th>\n",
       "      <th>hardware</th>\n",
       "      <th>multiscan</th>\n",
       "      <th>fractured</th>\n",
       "      <th>fracture_count</th>\n",
       "      <th>frontal</th>\n",
       "      <th>lateral</th>\n",
       "      <th>oblique</th>\n",
       "    </tr>\n",
       "  </thead>\n",
       "  <tbody>\n",
       "    <tr>\n",
       "      <th>0</th>\n",
       "      <td>IMG0000000.jpg</td>\n",
       "      <td>0</td>\n",
       "      <td>1</td>\n",
       "      <td>0</td>\n",
       "      <td>0</td>\n",
       "      <td>0</td>\n",
       "      <td>0</td>\n",
       "      <td>1</td>\n",
       "      <td>0</td>\n",
       "      <td>0</td>\n",
       "      <td>1</td>\n",
       "      <td>1</td>\n",
       "      <td>0</td>\n",
       "    </tr>\n",
       "    <tr>\n",
       "      <th>1</th>\n",
       "      <td>IMG0000001.jpg</td>\n",
       "      <td>0</td>\n",
       "      <td>1</td>\n",
       "      <td>0</td>\n",
       "      <td>0</td>\n",
       "      <td>0</td>\n",
       "      <td>0</td>\n",
       "      <td>1</td>\n",
       "      <td>0</td>\n",
       "      <td>0</td>\n",
       "      <td>1</td>\n",
       "      <td>1</td>\n",
       "      <td>0</td>\n",
       "    </tr>\n",
       "    <tr>\n",
       "      <th>2</th>\n",
       "      <td>IMG0000002.jpg</td>\n",
       "      <td>0</td>\n",
       "      <td>1</td>\n",
       "      <td>0</td>\n",
       "      <td>0</td>\n",
       "      <td>0</td>\n",
       "      <td>0</td>\n",
       "      <td>1</td>\n",
       "      <td>0</td>\n",
       "      <td>0</td>\n",
       "      <td>1</td>\n",
       "      <td>1</td>\n",
       "      <td>0</td>\n",
       "    </tr>\n",
       "    <tr>\n",
       "      <th>3</th>\n",
       "      <td>IMG0000003.jpg</td>\n",
       "      <td>0</td>\n",
       "      <td>1</td>\n",
       "      <td>0</td>\n",
       "      <td>0</td>\n",
       "      <td>0</td>\n",
       "      <td>0</td>\n",
       "      <td>1</td>\n",
       "      <td>0</td>\n",
       "      <td>0</td>\n",
       "      <td>0</td>\n",
       "      <td>1</td>\n",
       "      <td>1</td>\n",
       "    </tr>\n",
       "    <tr>\n",
       "      <th>4</th>\n",
       "      <td>IMG0000004.jpg</td>\n",
       "      <td>0</td>\n",
       "      <td>1</td>\n",
       "      <td>0</td>\n",
       "      <td>0</td>\n",
       "      <td>0</td>\n",
       "      <td>0</td>\n",
       "      <td>1</td>\n",
       "      <td>0</td>\n",
       "      <td>0</td>\n",
       "      <td>0</td>\n",
       "      <td>1</td>\n",
       "      <td>1</td>\n",
       "    </tr>\n",
       "  </tbody>\n",
       "</table>\n",
       "</div>"
      ],
      "text/plain": [
       "         image_id  hand  leg  hip  shoulder  mixed  hardware  multiscan  \\\n",
       "0  IMG0000000.jpg     0    1    0         0      0         0          1   \n",
       "1  IMG0000001.jpg     0    1    0         0      0         0          1   \n",
       "2  IMG0000002.jpg     0    1    0         0      0         0          1   \n",
       "3  IMG0000003.jpg     0    1    0         0      0         0          1   \n",
       "4  IMG0000004.jpg     0    1    0         0      0         0          1   \n",
       "\n",
       "   fractured  fracture_count  frontal  lateral  oblique  \n",
       "0          0               0        1        1        0  \n",
       "1          0               0        1        1        0  \n",
       "2          0               0        1        1        0  \n",
       "3          0               0        0        1        1  \n",
       "4          0               0        0        1        1  "
      ]
     },
     "execution_count": 1,
     "metadata": {},
     "output_type": "execute_result"
    }
   ],
   "source": [
    "import pandas as pd\n",
    "\n",
    "# Load the dataset\n",
    "df = pd.read_csv('../dataset.csv')\n",
    "\n",
    "# Display the first 5 rows\n",
    "df.head()"
   ]
  },
  {
   "cell_type": "code",
   "execution_count": 2,
   "id": "f3520923-87ea-45ab-bc6e-ee852187d391",
   "metadata": {},
   "outputs": [
    {
     "data": {
      "text/plain": [
       "fractured\n",
       "0    3366\n",
       "1     717\n",
       "dtype: int64"
      ]
     },
     "execution_count": 2,
     "metadata": {},
     "output_type": "execute_result"
    }
   ],
   "source": [
    "# Count the number of rows for each class\n",
    "df.groupby(\"fractured\").size()"
   ]
  },
  {
   "cell_type": "code",
   "execution_count": null,
   "id": "b8eefd05-ab26-45a1-83d6-3af9cb51bf83",
   "metadata": {},
   "outputs": [],
   "source": [
    "# Filter out the rows where only the hand is fractured\n",
    "df_hands = df.loc[(df['hand'] == 1) & (df['mixed'] == 0)]\n",
    "\n",
    "# Display information about the dataset\n",
    "df_hands.info()"
   ]
  },
  {
   "cell_type": "code",
   "execution_count": null,
   "id": "70b88fe4-027f-402f-8ddc-9d121389775f",
   "metadata": {},
   "outputs": [],
   "source": [
    "# Count the number of rows for each class\n",
    "df_hands.groupby(\"fractured\").size()"
   ]
  },
  {
   "cell_type": "code",
   "execution_count": 3,
   "id": "b6fdefd2-c4e3-413a-885c-8b89aacad8db",
   "metadata": {},
   "outputs": [],
   "source": [
    "# Save the filtered dataset\n",
    "\n",
    "df.to_csv('output/dataset/distribution/all_included_fractures.csv', index=False)  \n",
    "#df_hands.to_csv('output/datasets/distribution/only_hands.csv', index=False) # Uncomment this line to save the filtered dataset"
   ]
  },
  {
   "cell_type": "code",
   "execution_count": 4,
   "id": "f8ea3ec3-e69c-4975-981a-4a3632eb31e8",
   "metadata": {},
   "outputs": [],
   "source": [
    "df_fractured = df.loc[(df['fractured'] == 1)]\n",
    "#df_hands_fractured = df.loc[(df['fractured'] == 1)] # Uncomment this line to filter out the rows where only the hand is fractured\n",
    "#df_hands_fractured.head() # Uncomment this line to display the first 5 rows if created the filtered dataset above"
   ]
  },
  {
   "cell_type": "code",
   "execution_count": 5,
   "id": "66af7fc4-1931-45f5-8b90-1810d07233ec",
   "metadata": {},
   "outputs": [],
   "source": [
    "df_images_id = df_fractured['image_id']\n",
    "#df_hands_images_id = df_hands_fractured['image_id'] # Uncomment this line to filter out the rows where only the hand is fractured\n",
    "#df_hands_images_id.head() # Uncomment this line to display the first 5 rows if created the filtered dataset above"
   ]
  },
  {
   "cell_type": "code",
   "execution_count": 6,
   "id": "5a87fcd5-d820-4bc5-bbfc-906187f69334",
   "metadata": {},
   "outputs": [],
   "source": [
    "# !pip install scikit-learn # Uncomment if scikit-learn isn't installed\n",
    "\n",
    "from sklearn.model_selection import train_test_split\n",
    "\n",
    "# Split the dataset into train, validation and test sets\n",
    "train, test = train_test_split(df_images_id, test_size=0.2) # Train\n",
    "#train, test = train_test_split(df_hands_images_id, test_size=0.2) # Train\n",
    "validation, test = train_test_split(test, test_size=0.4) # Test, Validation"
   ]
  },
  {
   "cell_type": "code",
   "execution_count": 7,
   "id": "49160b17-fd91-489d-a048-1a5f0504f4df",
   "metadata": {},
   "outputs": [
    {
     "data": {
      "text/plain": [
       "58"
      ]
     },
     "execution_count": 7,
     "metadata": {},
     "output_type": "execute_result"
    }
   ],
   "source": [
    "# Display the number of rows for each set\n",
    "test.count()\n",
    "train.count()\n",
    "validation.count()"
   ]
  },
  {
   "cell_type": "code",
   "execution_count": 8,
   "id": "8f8779a3-13a3-4eb9-90a5-d4a389db0f0a",
   "metadata": {},
   "outputs": [],
   "source": [
    "# Save the train, validation and test sets to CSV files\n",
    "train.to_csv('output/dataset/distribution/train.csv', index=False)  \n",
    "test.to_csv('output/dataset/distribution/test.csv', index=False)  \n",
    "validation.to_csv('output/dataset/distribution/validation.csv', index=False)  "
   ]
  },
  {
   "cell_type": "code",
   "execution_count": 11,
   "id": "59f85184-7a13-4f45-8290-c8ecefdfe559",
   "metadata": {},
   "outputs": [],
   "source": [
    "import os\n",
    "import shutil\n",
    "\n",
    "# Current directory of the notebook\n",
    "current_dir = os.getcwd()\n",
    "\n",
    "# Directory one level up from the current directory\n",
    "one_level_up = os.path.dirname(current_dir)\n",
    "\n",
    "# Source and destination directories\n",
    "current_dir = os.getcwd()\n",
    "all_images_dir = os.path.join(one_level_up, 'images', 'all_images')\n",
    "all_labels_dir = os.path.join(all_images_dir, 'labels')\n",
    "\n",
    "test_dir = os.path.join(current_dir, 'output', 'dataset', 'test')\n",
    "test_images_dir = os.path.join(current_dir, 'output', 'dataset', 'test', 'images')\n",
    "test_labels_dir = os.path.join(current_dir, 'output', 'dataset', 'test', 'labels')\n",
    "\n",
    "validation_dir = os.path.join(current_dir, 'output', 'dataset', 'val')\n",
    "validation_images_dir = os.path.join(current_dir, 'output', 'dataset', 'val', 'images')\n",
    "validation_labels_dir = os.path.join(current_dir, 'output', 'dataset', 'val', 'labels')\n",
    "\n",
    "train_dir = os.path.join(current_dir, 'output', 'dataset', 'train')\n",
    "train_images_dir = os.path.join(current_dir, 'output', 'dataset', 'train', 'images')\n",
    "train_labels_dir = os.path.join(current_dir, 'output', 'dataset', 'train', 'labels')\n",
    "\n",
    "# Create destination directories if they do not exist\n",
    "os.makedirs(test_dir, exist_ok=True)\n",
    "os.makedirs(test_images_dir, exist_ok=True)\n",
    "os.makedirs(test_labels_dir, exist_ok=True)\n",
    "os.makedirs(validation_dir, exist_ok=True)\n",
    "os.makedirs(validation_images_dir, exist_ok=True)\n",
    "os.makedirs(validation_labels_dir, exist_ok=True)\n",
    "os.makedirs(train_dir, exist_ok=True)\n",
    "os.makedirs(train_images_dir, exist_ok=True)\n",
    "os.makedirs(train_labels_dir, exist_ok=True)\n",
    "\n",
    "def copy_files(image_ids, dest_images_dir, dest_labels_dir):\n",
    "    for image_id in image_ids:\n",
    "        src_image_path = os.path.join(all_images_dir, image_id)\n",
    "        dest_image_path = os.path.join(dest_images_dir, image_id)\n",
    "        shutil.copy(src_image_path, dest_image_path)\n",
    "        \n",
    "        label_filename = image_id.replace('.jpg', '.txt')\n",
    "        src_label_path = os.path.join(all_labels_dir, label_filename)\n",
    "        dest_label_path = os.path.join(dest_labels_dir, label_filename)\n",
    "        shutil.copy(src_label_path, dest_label_path)\n",
    "            \n",
    "# Copy files to the corresponding folders\n",
    "copy_files(train, train_images_dir, train_labels_dir)\n",
    "copy_files(test, test_images_dir, test_labels_dir)\n",
    "copy_files(validation, validation_images_dir, validation_labels_dir)"
   ]
  }
 ],
 "metadata": {
  "kernelspec": {
   "display_name": "venv",
   "language": "python",
   "name": "venv"
  },
  "language_info": {
   "codemirror_mode": {
    "name": "ipython",
    "version": 3
   },
   "file_extension": ".py",
   "mimetype": "text/x-python",
   "name": "python",
   "nbconvert_exporter": "python",
   "pygments_lexer": "ipython3",
   "version": "3.10.8"
  }
 },
 "nbformat": 4,
 "nbformat_minor": 5
}
