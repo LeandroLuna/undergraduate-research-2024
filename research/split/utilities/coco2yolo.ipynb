{
 "cells": [
  {
   "cell_type": "code",
   "execution_count": 1,
   "id": "67a74664-1bd4-4224-a9ed-0ee4d54858ae",
   "metadata": {},
   "outputs": [
    {
     "name": "stdout",
     "output_type": "stream",
     "text": [
      "Conversion completed. YOLO segmentation annotations saved in 'labels' folder.\n"
     ]
    }
   ],
   "source": [
    "import json\n",
    "import os\n",
    "\n",
    "def convert_coco_to_yolo_segmentation(json_file, folder_name = \"labels\"):\n",
    "    folder_name = folder_name\n",
    "    # Load the JSON file\n",
    "    with open(json_file, 'r') as file:\n",
    "        coco_data = json.load(file)\n",
    "\n",
    "    # Create a \"labels\" folder to store YOLO segmentation annotations\n",
    "    output_folder = os.path.join(os.path.dirname(json_file), folder_name)\n",
    "    os.makedirs(output_folder, exist_ok=True)\n",
    "\n",
    "    # Extract annotations from the COCO JSON data\n",
    "    annotations = coco_data['annotations']\n",
    "    for annotation in annotations:\n",
    "        image_id = annotation['image_id']\n",
    "        category_id = annotation['category_id']\n",
    "        segmentation = annotation['segmentation']\n",
    "        bbox = annotation['bbox']\n",
    "\n",
    "        # Find the image filename from the COCO data\n",
    "        for image in coco_data['images']:\n",
    "            if image['id'] == image_id:\n",
    "                image_filename = os.path.basename(image['file_name'])\n",
    "                image_filename = os.path.splitext(image_filename)[0] # Removing the extension. (In our case, it is the .jpg or .png part.)\n",
    "                image_width = image['width']\n",
    "                image_height = image['height']\n",
    "                break\n",
    "\n",
    "        # Calculate the normalized center coordinates and width/height\n",
    "        x_center = (bbox[0] + bbox[2] / 2) / image_width\n",
    "        y_center = (bbox[1] + bbox[3] / 2) / image_height\n",
    "        bbox_width = bbox[2] / image_width\n",
    "        bbox_height = bbox[3] / image_height\n",
    "\n",
    "        # Convert COCO segmentation to YOLO segmentation format\n",
    "        yolo_segmentation = [f\"{(x) / image_width:.5f} {(y) / image_height:.5f}\" for x, y in zip(segmentation[0][::2], segmentation[0][1::2])]\n",
    "        #yolo_segmentation.append(f\"{(segmentation[0][0]) / image_width:.5f} {(segmentation[0][1]) / image_height:.5f}\")\n",
    "        yolo_segmentation = ' '.join(yolo_segmentation)\n",
    "\n",
    "        # Generate the YOLO segmentation annotation line\n",
    "        yolo_annotation = f\"{category_id} {yolo_segmentation}\"\n",
    "\n",
    "        # Save the YOLO segmentation annotation in a file\n",
    "        output_filename = os.path.join(output_folder, f\"{image_filename}.txt\")\n",
    "        with open(output_filename, 'a+') as file:\n",
    "            file.write(yolo_annotation + '\\n')\n",
    "\n",
    "    print(\"Conversion completed. YOLO segmentation annotations saved in folder.\")\n",
    "\n",
    "\n",
    "json_file = \"../annotations/COCO JSON/COCO_fracture_masks.json\" #JSON file\n",
    "# split = \"converted_labels_from_coco2yolo\" #Folder\n",
    "convert_coco_to_yolo_segmentation(json_file)\n"
   ]
  },
  {
   "cell_type": "code",
   "execution_count": null,
   "id": "86a124cd-f72a-4ae4-82d9-e730a45606c7",
   "metadata": {},
   "outputs": [],
   "source": []
  }
 ],
 "metadata": {
  "kernelspec": {
   "display_name": "Python 3 (ipykernel)",
   "language": "python",
   "name": "python3"
  },
  "language_info": {
   "codemirror_mode": {
    "name": "ipython",
    "version": 3
   },
   "file_extension": ".py",
   "mimetype": "text/x-python",
   "name": "python",
   "nbconvert_exporter": "python",
   "pygments_lexer": "ipython3",
   "version": "3.10.8"
  }
 },
 "nbformat": 4,
 "nbformat_minor": 5
}
